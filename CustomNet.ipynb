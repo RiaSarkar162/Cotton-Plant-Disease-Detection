{
  "nbformat": 4,
  "nbformat_minor": 0,
  "metadata": {
    "colab": {
      "provenance": []
    },
    "kernelspec": {
      "name": "python3",
      "display_name": "Python 3"
    }
  },
  "cells": [
    {
      "cell_type": "code",
      "metadata": {
        "id": "rlj2FctYcFnt"
      },
      "source": [
        "TRAIN_PATH = \"drive/MyDrive/CottonPlantDiseases/NewDataset/train\"\n",
        "TEST_PATH = \"drive/MyDrive/CottonPlantDiseases/NewDataset/test\""
      ],
      "execution_count": null,
      "outputs": []
    },
    {
      "cell_type": "code",
      "metadata": {
        "id": "S-ygme-FcJzO"
      },
      "source": [
        "import tensorflow as tf\n",
        "import keras\n",
        "from tensorflow.keras.preprocessing.image import ImageDataGenerator\n",
        "from keras.models import Sequential, Model\n",
        "from tensorflow.keras.layers import Conv2D\n",
        "from keras.layers import Conv2D, MaxPooling2D,GlobalAveragePooling2D\n",
        "from keras.layers import Activation, Dropout, BatchNormalization, Flatten, Dense, AvgPool2D,MaxPool2D\n",
        "import numpy as np\n",
        "from tensorflow.keras.preprocessing import image"
      ],
      "execution_count": null,
      "outputs": []
    },
    {
      "cell_type": "code",
      "metadata": {
        "id": "zPwlUdlLcR31"
      },
      "source": [
        "train_datagen = ImageDataGenerator(rescale = 1./255,\n",
        "                                   shear_range = 0.2,\n",
        "                                   zoom_range = 0.2,\n",
        "                                   horizontal_flip = True)"
      ],
      "execution_count": null,
      "outputs": []
    },
    {
      "cell_type": "code",
      "metadata": {
        "id": "w0qxxOC8ceYO"
      },
      "source": [
        "test_datagen = ImageDataGenerator(rescale = 1./255)"
      ],
      "execution_count": null,
      "outputs": []
    },
    {
      "cell_type": "code",
      "metadata": {
        "colab": {
          "base_uri": "https://localhost:8080/"
        },
        "id": "0Qf6UALNcpNf",
        "outputId": "2b4b7cf4-6fc4-4a46-f71a-ab8e8ab62b6b"
      },
      "source": [
        "training_set = train_datagen.flow_from_directory(TRAIN_PATH,\n",
        "                                                 target_size=  (224, 224),\n",
        "                                                 batch_size = 32,\n",
        "                                                 class_mode = 'categorical')"
      ],
      "execution_count": null,
      "outputs": [
        {
          "output_type": "stream",
          "text": [
            "Found 1951 images belonging to 4 classes.\n"
          ],
          "name": "stdout"
        }
      ]
    },
    {
      "cell_type": "code",
      "metadata": {
        "colab": {
          "base_uri": "https://localhost:8080/"
        },
        "id": "6UBkFi0Qcttw",
        "outputId": "542ddbd2-451e-417c-af55-b2187ea47d95"
      },
      "source": [
        "test_set = test_datagen.flow_from_directory(TEST_PATH,\n",
        "                                            target_size = (224, 224),\n",
        "                                            batch_size = 32,\n",
        "                                            class_mode = 'categorical')"
      ],
      "execution_count": null,
      "outputs": [
        {
          "output_type": "stream",
          "text": [
            "Found 349 images belonging to 4 classes.\n"
          ],
          "name": "stdout"
        }
      ]
    },
    {
      "cell_type": "code",
      "metadata": {
        "id": "FLlrjdiudVsd"
      },
      "source": [
        "model = Sequential()\n",
        "model.add(Conv2D(filters=32,padding=\"same\",kernel_size=3, activation='relu', input_shape=[224, 224, 3]))\n",
        "model.add(Conv2D(filters=64,padding=\"same\",kernel_size=3, activation='relu'))\n",
        "model.add(MaxPool2D(pool_size=2, strides=2))\n",
        "\n",
        "model.add(Conv2D(filters=64,padding='same',kernel_size=3, activation='relu'))\n",
        "model.add(MaxPool2D(pool_size=2, strides=2))\n",
        "\n",
        "model.add(Conv2D(filters=128,padding='same',kernel_size=3, activation='relu'))\n",
        "model.add(MaxPool2D(pool_size=2, strides=2))\n",
        "\n",
        "model.add(Flatten())\n",
        "model.add(Dense(units=128, activation='relu'))\n",
        "model.add(Dense(units=4, activation='softmax'))\n",
        "\n"
      ],
      "execution_count": null,
      "outputs": []
    },
    {
      "cell_type": "code",
      "metadata": {
        "colab": {
          "base_uri": "https://localhost:8080/"
        },
        "id": "mTnRttTieDVq",
        "outputId": "96b941ea-bb14-498a-baca-7bd2d5c53c54"
      },
      "source": [
        "model.summary()"
      ],
      "execution_count": null,
      "outputs": [
        {
          "output_type": "stream",
          "text": [
            "Model: \"sequential\"\n",
            "_________________________________________________________________\n",
            "Layer (type)                 Output Shape              Param #   \n",
            "=================================================================\n",
            "conv2d (Conv2D)              (None, 244, 244, 32)      896       \n",
            "_________________________________________________________________\n",
            "conv2d_1 (Conv2D)            (None, 244, 244, 64)      18496     \n",
            "_________________________________________________________________\n",
            "max_pooling2d (MaxPooling2D) (None, 122, 122, 64)      0         \n",
            "_________________________________________________________________\n",
            "conv2d_2 (Conv2D)            (None, 122, 122, 64)      36928     \n",
            "_________________________________________________________________\n",
            "max_pooling2d_1 (MaxPooling2 (None, 61, 61, 64)        0         \n",
            "_________________________________________________________________\n",
            "conv2d_3 (Conv2D)            (None, 61, 61, 128)       73856     \n",
            "_________________________________________________________________\n",
            "max_pooling2d_2 (MaxPooling2 (None, 30, 30, 128)       0         \n",
            "_________________________________________________________________\n",
            "flatten (Flatten)            (None, 115200)            0         \n",
            "_________________________________________________________________\n",
            "dense (Dense)                (None, 128)               14745728  \n",
            "_________________________________________________________________\n",
            "dense_1 (Dense)              (None, 4)                 516       \n",
            "=================================================================\n",
            "Total params: 14,876,420\n",
            "Trainable params: 14,876,420\n",
            "Non-trainable params: 0\n",
            "_________________________________________________________________\n"
          ],
          "name": "stdout"
        }
      ]
    },
    {
      "cell_type": "code",
      "metadata": {
        "colab": {
          "base_uri": "https://localhost:8080/"
        },
        "id": "AHiApLR1fGIj",
        "outputId": "e4cfa52c-1b18-4c0b-975b-8b690569d7e7"
      },
      "source": [
        "model.compile(optimizer = 'adam',loss = 'categorical_crossentropy', metrics = ['accuracy'])\n",
        "hist = model.fit(x = training_set, validation_data = test_set, epochs = 20)"
      ],
      "execution_count": null,
      "outputs": [
        {
          "output_type": "stream",
          "text": [
            "Epoch 1/20\n",
            "61/61 [==============================] - 1645s 27s/step - loss: 1.3768 - accuracy: 0.4185 - val_loss: 1.0661 - val_accuracy: 0.5358\n",
            "Epoch 2/20\n",
            "61/61 [==============================] - 530s 9s/step - loss: 0.9501 - accuracy: 0.6184 - val_loss: 0.8779 - val_accuracy: 0.6418\n",
            "Epoch 3/20\n",
            "61/61 [==============================] - 529s 9s/step - loss: 0.8389 - accuracy: 0.6843 - val_loss: 0.5502 - val_accuracy: 0.8080\n",
            "Epoch 4/20\n",
            "61/61 [==============================] - 529s 9s/step - loss: 0.6011 - accuracy: 0.7640 - val_loss: 0.8765 - val_accuracy: 0.6361\n",
            "Epoch 5/20\n",
            "61/61 [==============================] - 528s 9s/step - loss: 0.6591 - accuracy: 0.7357 - val_loss: 0.5090 - val_accuracy: 0.8052\n",
            "Epoch 6/20\n",
            "61/61 [==============================] - 528s 9s/step - loss: 0.4691 - accuracy: 0.8085 - val_loss: 0.4243 - val_accuracy: 0.8395\n",
            "Epoch 7/20\n",
            "61/61 [==============================] - 529s 9s/step - loss: 0.4221 - accuracy: 0.8426 - val_loss: 0.3603 - val_accuracy: 0.8682\n",
            "Epoch 8/20\n",
            "61/61 [==============================] - 529s 9s/step - loss: 0.3454 - accuracy: 0.8687 - val_loss: 0.2709 - val_accuracy: 0.8968\n",
            "Epoch 9/20\n",
            "61/61 [==============================] - 526s 9s/step - loss: 0.2984 - accuracy: 0.8762 - val_loss: 0.3653 - val_accuracy: 0.8567\n",
            "Epoch 10/20\n",
            "61/61 [==============================] - 526s 9s/step - loss: 0.2655 - accuracy: 0.8933 - val_loss: 0.3218 - val_accuracy: 0.8567\n",
            "Epoch 11/20\n",
            "61/61 [==============================] - 527s 9s/step - loss: 0.2048 - accuracy: 0.9178 - val_loss: 0.1813 - val_accuracy: 0.9255\n",
            "Epoch 12/20\n",
            "61/61 [==============================] - 525s 9s/step - loss: 0.1533 - accuracy: 0.9456 - val_loss: 0.3996 - val_accuracy: 0.8510\n",
            "Epoch 13/20\n",
            "61/61 [==============================] - 525s 9s/step - loss: 0.2607 - accuracy: 0.8994 - val_loss: 0.2176 - val_accuracy: 0.9341\n",
            "Epoch 14/20\n",
            "61/61 [==============================] - 525s 9s/step - loss: 0.1915 - accuracy: 0.9313 - val_loss: 0.1792 - val_accuracy: 0.9341\n",
            "Epoch 15/20\n",
            "61/61 [==============================] - 525s 9s/step - loss: 0.1247 - accuracy: 0.9557 - val_loss: 0.2590 - val_accuracy: 0.8997\n",
            "Epoch 16/20\n",
            "61/61 [==============================] - 525s 9s/step - loss: 0.1352 - accuracy: 0.9479 - val_loss: 0.3347 - val_accuracy: 0.8854\n",
            "Epoch 17/20\n",
            "61/61 [==============================] - 524s 9s/step - loss: 0.1334 - accuracy: 0.9476 - val_loss: 0.3148 - val_accuracy: 0.8825\n",
            "Epoch 18/20\n",
            "61/61 [==============================] - 524s 9s/step - loss: 0.1771 - accuracy: 0.9414 - val_loss: 0.1957 - val_accuracy: 0.9198\n",
            "Epoch 19/20\n",
            "61/61 [==============================] - 524s 9s/step - loss: 0.0708 - accuracy: 0.9764 - val_loss: 0.1550 - val_accuracy: 0.9398\n",
            "Epoch 20/20\n",
            "61/61 [==============================] - 525s 9s/step - loss: 0.0762 - accuracy: 0.9721 - val_loss: 0.3107 - val_accuracy: 0.9054\n"
          ],
          "name": "stdout"
        }
      ]
    },
    {
      "cell_type": "code",
      "metadata": {
        "id": "HvD4AFzVq0jZ"
      },
      "source": [],
      "execution_count": null,
      "outputs": []
    }
  ]
}